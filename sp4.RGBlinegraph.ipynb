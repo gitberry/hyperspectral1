{
 "cells": [
  {
   "cell_type": "code",
   "execution_count": 2,
   "metadata": {},
   "outputs": [
    {
     "data": {
      "text/plain": [
       "<Figure size 1000x800 with 0 Axes>"
      ]
     },
     "metadata": {},
     "output_type": "display_data"
    }
   ],
   "source": [
    "#HAPPY PATH - MOVING TO NEXT...\n",
    "# issues with cv2 - trustworthy? or maybe a completely awesome alternative path?????\n",
    "import matplotlib.pyplot as plt\n",
    "import cv2\n",
    "\n",
    "im = cv2.imread('../NesbitTry1/NesbitRGBSatBLUE.png')\n",
    "# get RGB values\n",
    "RSpectrum = cv2.calcHist(im, [0], None, [256],[0,256])\n",
    "GSpectrum = cv2.calcHist(im, [1], None, [256],[0,256])\n",
    "#BSpectrum = cv2.calcHist(im, [2], None, [256],[0,256])\n",
    "BSpectrum = cv2.calcHist(im, [14], None, [256],[0,256])\n",
    "\n",
    "# Separate Histograms for each color\n",
    "#plt.subplot(3, 1, 1)\n",
    "#plt.title(\"histogram of Blue\")\n",
    "#plt.hist(BSpectrum, color=\"blue\")\n",
    "#\n",
    "#plt.subplot(3, 1, 2)\n",
    "#plt.title(\"histogram of Green\")\n",
    "#plt.hist(GSpectrum, color=\"green\")\n",
    "#\n",
    "#plt.subplot(3, 1, 3)\n",
    "#plt.title(\"histogram of Red\")\n",
    "#plt.hist(RSpectrum, color=\"red\")\n",
    "#\n",
    "## for clear view\n",
    "#plt.tight_layout()\n",
    "#plt.figure(figsize=((10,8)))\n",
    "plt.show()\n",
    "# I was here - trying to figure out wbhy it doesn't show the original picture...\n",
    "# was distracted from trying to TRULY separate out the spectrum...\n",
    "\n",
    "# combined histogram\n",
    "#plt.title(\"Histogram of all RGB Colors\")\n",
    "#plt.plot(BSpectrum, color=\"blue\")\n",
    "#plt.plot(GSpectrum, color=\"green\")\n",
    "#plt.plot(RSpectrum, color=\"red\")\n",
    "#plt.show()\n",
    "\n",
    "\n",
    "\n",
    "## calculate mean value from RGB channels and flatten to 1D array\n",
    "#vals = im.mean(axis=2).flatten()\n",
    "## plot histogram with 255 bins\n",
    "#b, bins, patches = plt.hist(vals, 23425)\n",
    "#plt.xlim([0,255])\n",
    "#plt.show()"
   ]
  }
 ],
 "metadata": {
  "kernelspec": {
   "display_name": "Python 3",
   "language": "python",
   "name": "python3"
  },
  "language_info": {
   "codemirror_mode": {
    "name": "ipython",
    "version": 3
   },
   "file_extension": ".py",
   "mimetype": "text/x-python",
   "name": "python",
   "nbconvert_exporter": "python",
   "pygments_lexer": "ipython3",
   "version": "3.9.1"
  },
  "orig_nbformat": 4
 },
 "nbformat": 4,
 "nbformat_minor": 2
}
