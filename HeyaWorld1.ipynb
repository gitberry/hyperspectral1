{
 "cells": [
  {
   "cell_type": "code",
   "execution_count": 9,
   "metadata": {},
   "outputs": [
    {
     "name": "stdout",
     "output_type": "stream",
     "text": [
      "seomthing: 12:3904\n",
      "2023-05-08 12:39:13.185410\n"
     ]
    }
   ],
   "source": [
    "from datetime import datetime #import datetime\n",
    "\n",
    "if not ('msg' in locals()) : \n",
    "         print (\"nope\")\n",
    "         msg = \"seomthing: \" + datetime.now().strftime(\"%H:%M%S\")\n",
    "\n",
    "print(msg)\n",
    "#time.sleep(3)\n",
    "nnn = datetime.now()\n",
    "print (nnn)\n",
    "#print(msg)\n",
    "\n",
    "\n"
   ]
  }
 ],
 "metadata": {
  "kernelspec": {
   "display_name": "Python 3",
   "language": "python",
   "name": "python3"
  },
  "language_info": {
   "codemirror_mode": {
    "name": "ipython",
    "version": 3
   },
   "file_extension": ".py",
   "mimetype": "text/x-python",
   "name": "python",
   "nbconvert_exporter": "python",
   "pygments_lexer": "ipython3",
   "version": "3.9.1"
  },
  "orig_nbformat": 4
 },
 "nbformat": 4,
 "nbformat_minor": 2
}
