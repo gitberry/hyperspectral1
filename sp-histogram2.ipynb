{
 "cells": [
  {
   "cell_type": "code",
   "execution_count": 3,
   "metadata": {},
   "outputs": [
    {
     "ename": "IndexError",
     "evalue": "only integers, slices (`:`), ellipsis (`...`), numpy.newaxis (`None`) and integer or boolean arrays are valid indices",
     "output_type": "error",
     "traceback": [
      "\u001b[1;31m---------------------------------------------------------------------------\u001b[0m",
      "\u001b[1;31mIndexError\u001b[0m                                Traceback (most recent call last)",
      "Cell \u001b[1;32mIn[3], line 13\u001b[0m\n\u001b[0;32m     10\u001b[0m         \u001b[39mfor\u001b[39;00m k \u001b[39min\u001b[39;00m \u001b[39mrange\u001b[39m(\u001b[39m0\u001b[39m, \u001b[39mlen\u001b[39m(img[i][j])):\n\u001b[0;32m     11\u001b[0m             intensity \u001b[39m+\u001b[39m\u001b[39m=\u001b[39m img[i][j][k]\n\u001b[1;32m---> 13\u001b[0m         bins[intensity\u001b[39m/\u001b[39m\u001b[39m3\u001b[39m] \u001b[39m+\u001b[39m\u001b[39m=\u001b[39m \u001b[39m1\u001b[39m\n\u001b[0;32m     15\u001b[0m \u001b[39mprint\u001b[39m( bins)\n",
      "\u001b[1;31mIndexError\u001b[0m: only integers, slices (`:`), ellipsis (`...`), numpy.newaxis (`None`) and integer or boolean arrays are valid indices"
     ]
    }
   ],
   "source": [
    "# DEADEND...\n",
    "import numpy as np, cv2 as cv\n",
    "\n",
    "img = cv.imread(\"../NesbitTry1/NesbitRGBSat.png\")\n",
    "bins = np.zeros(256, np.int32)\n",
    "\n",
    "for i in range(0, img.shape[0]):\n",
    "    for j in range(0, img.shape[1]):\n",
    "\n",
    "        intensity = 0\n",
    "        for k in range(0, len(img[i][j])):\n",
    "            intensity += img[i][j][k]\n",
    "\n",
    "        bins[intensity/3] += 1\n",
    "\n",
    "print( bins)"
   ]
  }
 ],
 "metadata": {
  "kernelspec": {
   "display_name": "Python 3",
   "language": "python",
   "name": "python3"
  },
  "language_info": {
   "codemirror_mode": {
    "name": "ipython",
    "version": 3
   },
   "file_extension": ".py",
   "mimetype": "text/x-python",
   "name": "python",
   "nbconvert_exporter": "python",
   "pygments_lexer": "ipython3",
   "version": "3.9.1"
  },
  "orig_nbformat": 4
 },
 "nbformat": 4,
 "nbformat_minor": 2
}
