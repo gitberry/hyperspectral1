{
 "cells": [
  {
   "cell_type": "code",
   "execution_count": 1,
   "metadata": {},
   "outputs": [
    {
     "name": "stdout",
     "output_type": "stream",
     "text": [
      "(787, 1705, 3)\n",
      "height: 1705  width: 787  depth: 3\n"
     ]
    },
    {
     "ename": "IndexError",
     "evalue": "index 787 is out of bounds for axis 0 with size 787",
     "output_type": "error",
     "traceback": [
      "\u001b[1;31m---------------------------------------------------------------------------\u001b[0m",
      "\u001b[1;31mIndexError\u001b[0m                                Traceback (most recent call last)",
      "Cell \u001b[1;32mIn[1], line 30\u001b[0m\n\u001b[0;32m     28\u001b[0m \u001b[39mfor\u001b[39;00m yrange \u001b[39min\u001b[39;00m \u001b[39mrange\u001b[39m(width):        \n\u001b[0;32m     29\u001b[0m     \u001b[39mfor\u001b[39;00m zrange \u001b[39min\u001b[39;00m \u001b[39mrange\u001b[39m(depth):\n\u001b[1;32m---> 30\u001b[0m         at \u001b[39m=\u001b[39m at \u001b[39m+\u001b[39m \u001b[39m\"\u001b[39m\u001b[39m[\u001b[39m\u001b[39m\"\u001b[39m \u001b[39m+\u001b[39m \u001b[39mstr\u001b[39m(yrange) \u001b[39m+\u001b[39m \u001b[39m\"\u001b[39m\u001b[39m,\u001b[39m\u001b[39m\"\u001b[39m \u001b[39m+\u001b[39m \u001b[39mstr\u001b[39m(xrange) \u001b[39m+\u001b[39m \u001b[39m\"\u001b[39m\u001b[39m,\u001b[39m\u001b[39m\"\u001b[39m \u001b[39m+\u001b[39m \u001b[39mstr\u001b[39m(zrange) \u001b[39m+\u001b[39m \u001b[39m\"\u001b[39m\u001b[39m:\u001b[39m\u001b[39m\"\u001b[39m \u001b[39m+\u001b[39m \u001b[39mstr\u001b[39m(im[xrange,yrange,zrange]) \u001b[39m+\u001b[39m \u001b[39m\"\u001b[39m\u001b[39m]\u001b[39m\u001b[39m\"\u001b[39m \n\u001b[0;32m     31\u001b[0m         \u001b[39mif\u001b[39;00m zrange \u001b[39m==\u001b[39m \u001b[39m0\u001b[39m : zR[yrange] \u001b[39m=\u001b[39m zR[yrange] \u001b[39m+\u001b[39m im[xrange,yrange,zrange]\n\u001b[0;32m     32\u001b[0m         \u001b[39mif\u001b[39;00m zrange \u001b[39m==\u001b[39m \u001b[39m1\u001b[39m : zG[yrange] \u001b[39m=\u001b[39m zG[yrange] \u001b[39m+\u001b[39m im[xrange,yrange,zrange]\n",
      "\u001b[1;31mIndexError\u001b[0m: index 787 is out of bounds for axis 0 with size 787"
     ]
    }
   ],
   "source": [
    "#iterate through all channels\n",
    "import matplotlib.pyplot as plt\n",
    "import numpy as np\n",
    "import cv2\n",
    "#delayed attempt to finesse the plot colors -> colors = ['b', 'g', 'r', 'c', 'm', 'y', 'k', 'w']\n",
    "\n",
    "#im = cv2.imread('../NesbitTry1/SMALL.png')\n",
    "im = cv2.imread('../NesbitTry1/NesbitRGBSat.png')\n",
    "print(im.shape)\n",
    "#cv2.imshow('dst',im)\n",
    "#print(im)\n",
    "width,height,depth=im.shape\n",
    "print(\"height:\", str(height),\" width:\", str(width),\" depth:\",str(depth))\n",
    "zX = np.empty(height) \n",
    "zR = np.empty(height) \n",
    "zG = np.empty(height) \n",
    "zB = np.empty(height) \n",
    "#print (\"zX shape:\",zX.shape)\n",
    "\n",
    "a1 = \"\"\n",
    "TheIncrement = 0\n",
    "for westerny in range(height):\n",
    "    zX[westerny] = TheIncrement\n",
    "    zR[westerny] = 0\n",
    "    zG[westerny] = 0\n",
    "    zB[westerny] = 0\n",
    "    at = \"\"\n",
    "    for northerny in range(width):        \n",
    "        for altitudey in range(depth):\n",
    "            at = at + \"[\" + str(westerny) + \",\" + str(northerny) + \",\" + str(altitudey) + \":\" + str(im[westerny,northerny,altitudey]) + \"]\" \n",
    "            if altitudey == 0 : zR[westerny] = zR[westerny] + im[westerny,northerny,altitudey]\n",
    "            if altitudey == 1 : zG[westerny] = zG[westerny] + im[westerny,northerny,altitudey]\n",
    "            if altitudey == 2 : zB[westerny] = zB[westerny] + im[westerny,northerny,altitudey]            \n",
    "            at = at + \" {\" + str(zR[westerny])+\",\"+str(zG[westerny])+\",\"+str(zB[westerny])+\"} \"\n",
    "    #print(at)\n",
    "    TheIncrement = TheIncrement + 1\n",
    "    # We turn the sum into a arithmetic mean - aka average to see what our average pixel  RGB values are for that column... \n",
    "    zR[westerny] = zR[westerny]/width # + im[yrange,xrange,zrange]\n",
    "    zG[westerny] = zG[westerny]/width # + im[yrange,xrange,zrange]\n",
    "    zB[westerny] = zB[westerny]/width # + im[yrange,xrange,zrange]  \n",
    "#thisPlt = plt.plot(zX, zR, zG, zB)\n",
    "#thisPlt.annotate(f\"({r}, {g}, {b})\")\n",
    "#thisPlt\n",
    "plt.subplot(1,2,1)\n",
    "plt.plot(zX, zR, color='r')\n",
    "plt.plot(zX, zG, color='g')\n",
    "plt.plot(zX, zB, color='b')\n",
    "plt.title(\"Orig\")\n",
    "plt.xlabel(\"west-east\")\n",
    "plt.ylabel(\"avg val\")\n",
    "\n"
   ]
  }
 ],
 "metadata": {
  "kernelspec": {
   "display_name": "Python 3",
   "language": "python",
   "name": "python3"
  },
  "language_info": {
   "codemirror_mode": {
    "name": "ipython",
    "version": 3
   },
   "file_extension": ".py",
   "mimetype": "text/x-python",
   "name": "python",
   "nbconvert_exporter": "python",
   "pygments_lexer": "ipython3",
   "version": "3.9.1"
  },
  "orig_nbformat": 4
 },
 "nbformat": 4,
 "nbformat_minor": 2
}
